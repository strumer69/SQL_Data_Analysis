{
 "cells": [
  {
   "cell_type": "code",
   "execution_count": 5,
   "id": "cb807b97",
   "metadata": {},
   "outputs": [],
   "source": [
    "# import pymysql\n",
    "\n",
    "import mysql.connector\n",
    "pymysql=mysql.connector\n",
    "\n",
    "myConnection = pymysql.connect(\n",
    "    host=\"localhost\", user=\"root\", password=\"sql12345678\", db=\"accidents\")\n",
    "\n",
    "cur = myConnection.cursor()\n",
    "\n",
    "cur.execute(\n",
    "    \"SELECT vehicle_type FROM vehicle_types WHERE vehicle_type LIKE '%torcycle%';\")\n",
    "\n",
    "cycle_list = cur.fetchall()\n",
    "\n",
    "\n",
    "selectSQL = ('''\n",
    "SELECT vt.vehicle_type, a.accident_severity\n",
    "FROM accident a\n",
    "JOIN vehicles v ON a.accident_index = v.accident_index\n",
    "JOIN vehicle_types vt ON v.vehicle_type = vt.vehicle_code\n",
    "WHERE vt.vehicle_type LIKE %s\n",
    "ORDER BY a.accident_severity;\n",
    "''')\n",
    "\n",
    "\n",
    "insert_SQL = ('''INSERT INTO accidents_median\n",
    "VALUES(%s, %s);''')\n",
    "\n",
    "\n",
    "for cycle in cycle_list:\n",
    "    cur.execute(selectSQL, cycle[0])\n",
    "    accidents = cur.fetchall()\n",
    "\n",
    "    # calculate median severity\n",
    "    # divide the length of accidents /2 to find the median of accdients list\n",
    "    quotient, remainder = divmod(len(accidents), 2)\n",
    "\n",
    "    if remainder:\n",
    "        # meaning odds number of items in accidents list\n",
    "        median_severity = accidents[quotient][1]\n",
    "    else:\n",
    "        # even numbers of items in accidents list\n",
    "        median_severity = (accidents[quotient]\n",
    "                           [1] + accidents[quotient + 2][1]) / 2\n",
    "\n",
    "    print(\"finding Median Severity for \", cycle[0])\n",
    "\n",
    "    # insert the calculated median severity into table\n",
    "    cur.execute(insert_SQL, (cycle[0], median_severity))\n",
    "\n",
    "myConnection.commit()\n",
    "myConnection.close()"
   ]
  },
  {
   "cell_type": "code",
   "execution_count": null,
   "id": "71b5650f",
   "metadata": {},
   "outputs": [],
   "source": []
  }
 ],
 "metadata": {
  "kernelspec": {
   "display_name": "Python 3 (ipykernel)",
   "language": "python",
   "name": "python3"
  },
  "language_info": {
   "codemirror_mode": {
    "name": "ipython",
    "version": 3
   },
   "file_extension": ".py",
   "mimetype": "text/x-python",
   "name": "python",
   "nbconvert_exporter": "python",
   "pygments_lexer": "ipython3",
   "version": "3.9.13"
  }
 },
 "nbformat": 4,
 "nbformat_minor": 5
}
